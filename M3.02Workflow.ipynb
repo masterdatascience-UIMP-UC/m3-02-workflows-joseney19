{
 "cells": [
  {
   "cell_type": "markdown",
   "metadata": {},
   "source": [
    "# Workflow\n",
    "\n",
    "En esta práctica vamos a aplicar lo aprendido en esta asignatura para crear un flujo que automatice la descarga, análisis y publicación de los datos utilizando distintas herramientas como Zenodo, github y librerías de python para el análisis de datos\n",
    "\n",
    "### Librerías necesarias para la práctica\n",
    "\n",
    "```python\n",
    "import xml.etree.ElementTree as ET\n",
    "import requests\n",
    "import json\n",
    "import zipfile\n",
    "```\n",
    "\n",
    "### Elementos necesarios\n",
    "* Al menos un fichero CSV\n",
    "* Un script de análisis de datos en CSV (Publicado en Github)\n"
   ]
  },
  {
   "cell_type": "markdown",
   "metadata": {},
   "source": [
    "## Nombres:\n",
    "### Ezequiel Cimadevilla Alvarez\n",
    "### Jose Ney Gandica Cardenas"
   ]
  },
  {
   "cell_type": "code",
   "execution_count": 1,
   "metadata": {},
   "outputs": [],
   "source": [
    "import xml.etree.ElementTree as ET\n",
    "import requests\n",
    "import json\n",
    "from IPython.core.display import display, HTML\n",
    "##\n",
    "import pandas as pd\n",
    "import numpy as np\n",
    "import matplotlib.pyplot as plt\n",
    "\n",
    "import itertools as it"
   ]
  },
  {
   "cell_type": "markdown",
   "metadata": {},
   "source": [
    "# Publicación de datos iniciales\n",
    "\n",
    "Utilizando Zenodo, de forma manual, publicar los datos que se vayan a utilizar.\n",
    "\n",
    "<div class=\"alert alert-warning\" role=\"alert\" style=\"margin: 10px\">\n",
    "<p>Utilizar Communities para localizar más facilmente los datos</p>\n",
    "</div>\n"
   ]
  },
  {
   "cell_type": "markdown",
   "metadata": {},
   "source": [
    "\n",
    "\n",
    "[![DOI](https://zenodo.org/badge/DOI/10.5281/zenodo.2541765.svg)](https://doi.org/10.5281/zenodo.2541765)\n",
    "\n"
   ]
  },
  {
   "cell_type": "markdown",
   "metadata": {},
   "source": [
    "# Publicación de script de Análisis\n",
    "\n",
    "En Github + Zenodo"
   ]
  },
  {
   "cell_type": "markdown",
   "metadata": {},
   "source": [
    "\n",
    "\n",
    "[![DOI](https://zenodo.org/badge/DOI/10.5281/zenodo.2541794.svg)](https://doi.org/10.5281/zenodo.2541794)\n",
    "\n"
   ]
  },
  {
   "cell_type": "markdown",
   "metadata": {},
   "source": [
    "# Descarga de datos\n",
    "\n",
    "Desde Zenodo, utilizando los métodos conocidos (OAI-PMH, API)\n",
    "\n",
    "Pista: url+'?verb=ListRecords&set=nombre_set"
   ]
  },
  {
   "cell_type": "code",
   "execution_count": 2,
   "metadata": {
    "scrolled": true
   },
   "outputs": [
    {
     "name": "stdout",
     "output_type": "stream",
     "text": [
      "{http://www.openarchives.org/OAI/2.0/}OAI-PMH + \n",
      "  \n",
      "{http://www.openarchives.org/OAI/2.0/}responseDate + 2019-01-16T17:49:05Z\n",
      "{http://www.openarchives.org/OAI/2.0/}request + https://zenodo.org/oai2d\n",
      "{http://www.openarchives.org/OAI/2.0/}GetRecord + \n",
      "    \n",
      "{http://www.openarchives.org/OAI/2.0/}record + \n",
      "      \n",
      "{http://www.openarchives.org/OAI/2.0/}header + \n",
      "        \n",
      "{http://www.openarchives.org/OAI/2.0/}identifier + oai:zenodo.org:2541765\n",
      "{http://www.openarchives.org/OAI/2.0/}datestamp + 2019-01-16T15:31:14Z\n",
      "{http://www.openarchives.org/OAI/2.0/}metadata + \n",
      "        \n",
      "{http://datacite.org/schema/kernel-3}resource + \n",
      "          \n",
      "{http://datacite.org/schema/kernel-3}identifier + 10.5281/zenodo.2541765\n",
      "{http://datacite.org/schema/kernel-3}creators + \n",
      "            \n",
      "{http://datacite.org/schema/kernel-3}creator + \n",
      "              \n",
      "{http://datacite.org/schema/kernel-3}creatorName + Ezequiel Cimadevilla\n",
      "{http://datacite.org/schema/kernel-3}creator + \n",
      "              \n",
      "{http://datacite.org/schema/kernel-3}creatorName + Jose Gandica\n",
      "{http://datacite.org/schema/kernel-3}titles + \n",
      "            \n",
      "{http://datacite.org/schema/kernel-3}title + Viajeros, pernoctaciones y estancia media segun procedencia\n",
      "{http://datacite.org/schema/kernel-3}publisher + Zenodo\n",
      "{http://datacite.org/schema/kernel-3}publicationYear + 2019\n",
      "{http://datacite.org/schema/kernel-3}dates + \n",
      "            \n",
      "{http://datacite.org/schema/kernel-3}date + 2019-01-16\n",
      "{http://datacite.org/schema/kernel-3}resourceType + None\n",
      "{http://datacite.org/schema/kernel-3}alternateIdentifiers + \n",
      "            \n",
      "{http://datacite.org/schema/kernel-3}alternateIdentifier + https://zenodo.org/record/2541765\n",
      "{http://datacite.org/schema/kernel-3}relatedIdentifiers + \n",
      "            \n",
      "{http://datacite.org/schema/kernel-3}relatedIdentifier + 10.5281/zenodo.2541764\n",
      "{http://datacite.org/schema/kernel-3}rightsList + \n",
      "            \n",
      "{http://datacite.org/schema/kernel-3}rights + Creative Commons Attribution 4.0 International\n",
      "{http://datacite.org/schema/kernel-3}rights + Open Access\n",
      "{http://datacite.org/schema/kernel-3}descriptions + \n",
      "            \n",
      "{http://datacite.org/schema/kernel-3}description + <p>Pr&aacute;ctica para Ciclo de Vida de los Datos</p>\n"
     ]
    }
   ],
   "source": [
    "oai = requests.get('https://zenodo.org/oai2d?verb=GetRecord&metadataPrefix=datacite3&identifier=oai:zenodo.org:2541765')\n",
    "oaiTree = ET.fromstring(oai.text)\n",
    "for i in oaiTree.iter():\n",
    "        print(i.tag, '+', i.text)"
   ]
  },
  {
   "cell_type": "code",
   "execution_count": 3,
   "metadata": {},
   "outputs": [],
   "source": [
    "url = \"https://doi.org/10.5281/zenodo.2541765\" #DOI solver URL\n",
    "headers = {'Accept': 'application/vnd.citationstyles.csl+json;q=1.0'} #Type of response accpeted\n",
    "r = requests.get(url, headers=headers) #POST with headers"
   ]
  },
  {
   "cell_type": "code",
   "execution_count": 4,
   "metadata": {},
   "outputs": [
    {
     "data": {
      "text/plain": [
       "{'type': 'dataset',\n",
       " 'id': 'https://doi.org/10.5281/zenodo.2541765',\n",
       " 'author': [{'family': 'Cimadevilla', 'given': 'Ezequiel'},\n",
       "  {'family': 'Gandica', 'given': 'Jose'}],\n",
       " 'issued': {'date-parts': [[2019, 1, 16]]},\n",
       " 'abstract': 'Práctica para Ciclo de Vida de los Datos',\n",
       " 'DOI': '10.5281/zenodo.2541765',\n",
       " 'publisher': 'Zenodo',\n",
       " 'title': 'Viajeros, pernoctaciones y estancia media segun procedencia',\n",
       " 'URL': 'https://zenodo.org/record/2541765'}"
      ]
     },
     "execution_count": 4,
     "metadata": {},
     "output_type": "execute_result"
    }
   ],
   "source": [
    "data = json.loads(r.text)\n",
    "data"
   ]
  },
  {
   "cell_type": "code",
   "execution_count": 5,
   "metadata": {},
   "outputs": [
    {
     "data": {
      "text/plain": [
       "'https://zenodo.org/record/2541765'"
      ]
     },
     "execution_count": 5,
     "metadata": {},
     "output_type": "execute_result"
    }
   ],
   "source": [
    "for elem in data:\n",
    "    if elem == 'URL':\n",
    "        pdf = data[elem]\n",
    "pdf"
   ]
  },
  {
   "cell_type": "code",
   "execution_count": 6,
   "metadata": {},
   "outputs": [],
   "source": [
    "url = pdf #DOI solver URL\n",
    "headers = {'accept': 'application/json'}\n",
    "r = requests.get('https://zenodo.org/api/records/2541765',headers)"
   ]
  },
  {
   "cell_type": "code",
   "execution_count": 7,
   "metadata": {
    "scrolled": true
   },
   "outputs": [
    {
     "data": {
      "text/plain": [
       "{'conceptdoi': '10.5281/zenodo.2541764',\n",
       " 'conceptrecid': '2541764',\n",
       " 'created': '2019-01-16T15:24:04.427085+00:00',\n",
       " 'doi': '10.5281/zenodo.2541765',\n",
       " 'files': [{'bucket': 'f53468f8-2fa0-4e83-875e-cfebde62099b',\n",
       "   'checksum': 'md5:4c4962732f5df9c505379df8d7e8b843',\n",
       "   'key': 'Viajeros, pernoctaciones y estancia media según procedencia y zonas-1.csv',\n",
       "   'links': {'self': 'https://zenodo.org/api/files/f53468f8-2fa0-4e83-875e-cfebde62099b/Viajeros%2C%20pernoctaciones%20y%20estancia%20media%20seg%C3%BAn%20procedencia%20y%20zonas-1.csv'},\n",
       "   'size': 421060,\n",
       "   'type': 'csv'}],\n",
       " 'id': 2541765,\n",
       " 'links': {'badge': 'https://zenodo.org/badge/doi/10.5281/zenodo.2541765.svg',\n",
       "  'bucket': 'https://zenodo.org/api/files/f53468f8-2fa0-4e83-875e-cfebde62099b',\n",
       "  'conceptbadge': 'https://zenodo.org/badge/doi/10.5281/zenodo.2541764.svg',\n",
       "  'conceptdoi': 'https://doi.org/10.5281/zenodo.2541764',\n",
       "  'doi': 'https://doi.org/10.5281/zenodo.2541765',\n",
       "  'html': 'https://zenodo.org/record/2541765',\n",
       "  'latest': 'https://zenodo.org/api/records/2541765',\n",
       "  'latest_html': 'https://zenodo.org/record/2541765',\n",
       "  'self': 'https://zenodo.org/api/records/2541765'},\n",
       " 'metadata': {'access_right': 'open',\n",
       "  'access_right_category': 'success',\n",
       "  'creators': [{'name': 'Ezequiel Cimadevilla'}, {'name': 'Jose Gandica'}],\n",
       "  'description': '<p>Pr&aacute;ctica para Ciclo de Vida de los Datos</p>',\n",
       "  'doi': '10.5281/zenodo.2541765',\n",
       "  'license': {'id': 'CC-BY-4.0'},\n",
       "  'publication_date': '2019-01-16',\n",
       "  'related_identifiers': [{'identifier': '10.5281/zenodo.2541764',\n",
       "    'relation': 'isVersionOf',\n",
       "    'scheme': 'doi'}],\n",
       "  'relations': {'version': [{'count': 1,\n",
       "     'index': 0,\n",
       "     'is_last': True,\n",
       "     'last_child': {'pid_type': 'recid', 'pid_value': '2541765'},\n",
       "     'parent': {'pid_type': 'recid', 'pid_value': '2541764'}}]},\n",
       "  'resource_type': {'title': 'Dataset', 'type': 'dataset'},\n",
       "  'title': 'Viajeros, pernoctaciones y estancia media segun procedencia'},\n",
       " 'owners': [58430],\n",
       " 'revision': 2,\n",
       " 'stats': {'downloads': 0.0,\n",
       "  'unique_downloads': 0.0,\n",
       "  'unique_views': 0.0,\n",
       "  'version_downloads': 0.0,\n",
       "  'version_unique_downloads': 0.0,\n",
       "  'version_unique_views': 0.0,\n",
       "  'version_views': 0.0,\n",
       "  'version_volume': 0.0,\n",
       "  'views': 0.0,\n",
       "  'volume': 0.0},\n",
       " 'updated': '2019-01-16T15:31:14.871718+00:00'}"
      ]
     },
     "execution_count": 7,
     "metadata": {},
     "output_type": "execute_result"
    }
   ],
   "source": [
    "data = json.loads(r.text)\n",
    "data"
   ]
  },
  {
   "cell_type": "code",
   "execution_count": 8,
   "metadata": {},
   "outputs": [],
   "source": [
    "for elem in data:\n",
    "    if elem == 'files':\n",
    "        csv = data[elem][0]['links']['self']"
   ]
  },
  {
   "cell_type": "code",
   "execution_count": 9,
   "metadata": {},
   "outputs": [],
   "source": [
    "oai = requests.get(csv)\n",
    "\n",
    "with open('data_1.csv', 'wb') as f:\n",
    "    f.write(oai.content)"
   ]
  },
  {
   "cell_type": "markdown",
   "metadata": {},
   "source": [
    "# Descarga de código\n",
    "\n",
    "Desde Zenodo, utilizando los métodos conocidos (OAI-PMH, API)\n",
    "\n",
    "<div class=\"alert alert-warning\" role=\"alert\" style=\"margin: 10px\">\n",
    "<p>Zenodo guarda un zip con el código</p>\n",
    "</div>"
   ]
  },
  {
   "cell_type": "code",
   "execution_count": 10,
   "metadata": {},
   "outputs": [],
   "source": [
    "url = pdf #DOI solver URL\n",
    "headers = {'accept': 'application/json'}\n",
    "r = requests.get('https://zenodo.org/api/records/2542007',headers)"
   ]
  },
  {
   "cell_type": "code",
   "execution_count": 11,
   "metadata": {
    "scrolled": true
   },
   "outputs": [
    {
     "data": {
      "text/plain": [
       "{'conceptdoi': '10.5281/zenodo.2541993',\n",
       " 'conceptrecid': '2541993',\n",
       " 'created': '2019-01-16T17:47:28.238160+00:00',\n",
       " 'doi': '10.5281/zenodo.2542007',\n",
       " 'files': [{'bucket': '1ab20d68-d83c-464f-a8d9-88270b4cab9f',\n",
       "   'checksum': 'md5:e82d80ad112ec756e547298915dc6bf9',\n",
       "   'key': 'zequihg50/workflows-Fio.zip',\n",
       "   'links': {'self': 'https://zenodo.org/api/files/1ab20d68-d83c-464f-a8d9-88270b4cab9f/zequihg50/workflows-Fio.zip'},\n",
       "   'size': 534,\n",
       "   'type': 'zip'}],\n",
       " 'id': 2542007,\n",
       " 'links': {'badge': 'https://zenodo.org/badge/doi/10.5281/zenodo.2542007.svg',\n",
       "  'bucket': 'https://zenodo.org/api/files/1ab20d68-d83c-464f-a8d9-88270b4cab9f',\n",
       "  'conceptbadge': 'https://zenodo.org/badge/doi/10.5281/zenodo.2541993.svg',\n",
       "  'conceptdoi': 'https://doi.org/10.5281/zenodo.2541993',\n",
       "  'doi': 'https://doi.org/10.5281/zenodo.2542007',\n",
       "  'html': 'https://zenodo.org/record/2542007',\n",
       "  'latest': 'https://zenodo.org/api/records/2542007',\n",
       "  'latest_html': 'https://zenodo.org/record/2542007',\n",
       "  'self': 'https://zenodo.org/api/records/2542007'},\n",
       " 'metadata': {'access_right': 'open',\n",
       "  'access_right_category': 'success',\n",
       "  'creators': [{'name': 'Ezequiel Cimadevilla Alvarez'}],\n",
       "  'description': 'No description provided.',\n",
       "  'doi': '10.5281/zenodo.2542007',\n",
       "  'license': {'id': 'other-open'},\n",
       "  'publication_date': '2019-01-16',\n",
       "  'related_identifiers': [{'identifier': 'https://github.com/zequihg50/workflows/tree/Fio',\n",
       "    'relation': 'isSupplementTo',\n",
       "    'scheme': 'url'},\n",
       "   {'identifier': '10.5281/zenodo.2541993',\n",
       "    'relation': 'isVersionOf',\n",
       "    'scheme': 'doi'}],\n",
       "  'relations': {'version': [{'count': 2,\n",
       "     'index': 1,\n",
       "     'is_last': True,\n",
       "     'last_child': {'pid_type': 'recid', 'pid_value': '2542007'},\n",
       "     'parent': {'pid_type': 'recid', 'pid_value': '2541993'}}]},\n",
       "  'resource_type': {'title': 'Software', 'type': 'software'},\n",
       "  'title': 'zequihg50/workflows Fio',\n",
       "  'version': 'Fio'},\n",
       " 'owners': [58430],\n",
       " 'revision': 2,\n",
       " 'stats': {'downloads': 0.0,\n",
       "  'unique_downloads': 0.0,\n",
       "  'unique_views': 0.0,\n",
       "  'version_downloads': 0.0,\n",
       "  'version_unique_downloads': 0.0,\n",
       "  'version_unique_views': 0.0,\n",
       "  'version_views': 0.0,\n",
       "  'version_volume': 0.0,\n",
       "  'views': 0.0,\n",
       "  'volume': 0.0},\n",
       " 'updated': '2019-01-16T17:47:38.309675+00:00'}"
      ]
     },
     "execution_count": 11,
     "metadata": {},
     "output_type": "execute_result"
    }
   ],
   "source": [
    "data = json.loads(r.text)\n",
    "data"
   ]
  },
  {
   "cell_type": "code",
   "execution_count": 12,
   "metadata": {},
   "outputs": [],
   "source": [
    "for elem in data:\n",
    "    if elem == 'files':\n",
    "        zip = data[elem][0]['links']['self']"
   ]
  },
  {
   "cell_type": "code",
   "execution_count": 13,
   "metadata": {},
   "outputs": [],
   "source": [
    "oai = requests.get(zip)\n",
    "\n",
    "with open('codigo.zip', 'wb') as f:\n",
    "    f.write(oai.content)"
   ]
  },
  {
   "cell_type": "code",
   "execution_count": 14,
   "metadata": {},
   "outputs": [],
   "source": [
    "import zipfile"
   ]
  },
  {
   "cell_type": "code",
   "execution_count": 15,
   "metadata": {},
   "outputs": [],
   "source": [
    "zip_ref = zipfile.ZipFile('codigo.zip', 'r')\n",
    "zip_ref.extractall('.')\n",
    "zip_ref.close()"
   ]
  },
  {
   "cell_type": "markdown",
   "metadata": {},
   "source": [
    "# Análisis de los datos\n",
    "\n",
    "Producir fichero: Otro CSV, imagen, etc"
   ]
  },
  {
   "cell_type": "code",
   "execution_count": 16,
   "metadata": {},
   "outputs": [
    {
     "data": {
      "text/html": [
       "<div>\n",
       "<style scoped>\n",
       "    .dataframe tbody tr th:only-of-type {\n",
       "        vertical-align: middle;\n",
       "    }\n",
       "\n",
       "    .dataframe tbody tr th {\n",
       "        vertical-align: top;\n",
       "    }\n",
       "\n",
       "    .dataframe thead th {\n",
       "        text-align: right;\n",
       "    }\n",
       "</style>\n",
       "<table border=\"1\" class=\"dataframe\">\n",
       "  <thead>\n",
       "    <tr style=\"text-align: right;\">\n",
       "      <th></th>\n",
       "      <th>Cantabria - Total - Viajeros</th>\n",
       "      <th>Cantabria - Total - Pernoctaciones</th>\n",
       "      <th>Cantabria - Total - Estancia media</th>\n",
       "      <th>Cantabria - Españoles - Viajeros</th>\n",
       "      <th>Cantabria - Españoles - Pernoctaciones</th>\n",
       "      <th>Cantabria - Españoles - Estancia media</th>\n",
       "      <th>Cantabria - Andalucía - Viajeros</th>\n",
       "      <th>Cantabria - Andalucía - Pernoctaciones</th>\n",
       "      <th>Cantabria - Andalucía - Estancia media</th>\n",
       "      <th>Cantabria - Asturias (Principado de) - Viajeros</th>\n",
       "      <th>...</th>\n",
       "      <th>Trasmiera - Resto Unión Europea - Estancia media</th>\n",
       "      <th>Trasmiera - Resto Europa - Viajeros</th>\n",
       "      <th>Trasmiera - Resto Europa - Pernoctaciones</th>\n",
       "      <th>Trasmiera - Resto Europa - Estancia media</th>\n",
       "      <th>Trasmiera - América - Viajeros</th>\n",
       "      <th>Trasmiera - América - Pernoctaciones</th>\n",
       "      <th>Trasmiera - América - Estancia media</th>\n",
       "      <th>Trasmiera - Resto del mundo - Viajeros</th>\n",
       "      <th>Trasmiera - Resto del mundo - Pernoctaciones</th>\n",
       "      <th>Trasmiera - Resto del mundo - Estancia media</th>\n",
       "    </tr>\n",
       "  </thead>\n",
       "  <tbody>\n",
       "    <tr>\n",
       "      <th>2006-Enero</th>\n",
       "      <td>37834</td>\n",
       "      <td>65565</td>\n",
       "      <td>1.73</td>\n",
       "      <td>34260</td>\n",
       "      <td>58861</td>\n",
       "      <td>1.72</td>\n",
       "      <td>817</td>\n",
       "      <td>1829</td>\n",
       "      <td>2.24</td>\n",
       "      <td>2872</td>\n",
       "      <td>...</td>\n",
       "      <td>NaN</td>\n",
       "      <td>23.0</td>\n",
       "      <td>32.0</td>\n",
       "      <td>1.41</td>\n",
       "      <td>9.0</td>\n",
       "      <td>23.0</td>\n",
       "      <td>2.65</td>\n",
       "      <td>10.0</td>\n",
       "      <td>10.0</td>\n",
       "      <td>1.02</td>\n",
       "    </tr>\n",
       "    <tr>\n",
       "      <th>2006-Febrero</th>\n",
       "      <td>46180</td>\n",
       "      <td>90758</td>\n",
       "      <td>1.97</td>\n",
       "      <td>41748</td>\n",
       "      <td>82139</td>\n",
       "      <td>1.97</td>\n",
       "      <td>1327</td>\n",
       "      <td>2638</td>\n",
       "      <td>1.99</td>\n",
       "      <td>3964</td>\n",
       "      <td>...</td>\n",
       "      <td>NaN</td>\n",
       "      <td>NaN</td>\n",
       "      <td>NaN</td>\n",
       "      <td>NaN</td>\n",
       "      <td>10.0</td>\n",
       "      <td>22.0</td>\n",
       "      <td>2.09</td>\n",
       "      <td>NaN</td>\n",
       "      <td>NaN</td>\n",
       "      <td>NaN</td>\n",
       "    </tr>\n",
       "  </tbody>\n",
       "</table>\n",
       "<p>2 rows × 630 columns</p>\n",
       "</div>"
      ],
      "text/plain": [
       "              Cantabria - Total - Viajeros  \\\n",
       "2006-Enero                           37834   \n",
       "2006-Febrero                         46180   \n",
       "\n",
       "              Cantabria - Total - Pernoctaciones  \\\n",
       "2006-Enero                                 65565   \n",
       "2006-Febrero                               90758   \n",
       "\n",
       "              Cantabria - Total - Estancia media  \\\n",
       "2006-Enero                                  1.73   \n",
       "2006-Febrero                                1.97   \n",
       "\n",
       "              Cantabria - Españoles - Viajeros  \\\n",
       "2006-Enero                               34260   \n",
       "2006-Febrero                             41748   \n",
       "\n",
       "              Cantabria - Españoles - Pernoctaciones  \\\n",
       "2006-Enero                                     58861   \n",
       "2006-Febrero                                   82139   \n",
       "\n",
       "              Cantabria - Españoles - Estancia media  \\\n",
       "2006-Enero                                      1.72   \n",
       "2006-Febrero                                    1.97   \n",
       "\n",
       "              Cantabria - Andalucía - Viajeros  \\\n",
       "2006-Enero                                 817   \n",
       "2006-Febrero                              1327   \n",
       "\n",
       "              Cantabria - Andalucía - Pernoctaciones  \\\n",
       "2006-Enero                                      1829   \n",
       "2006-Febrero                                    2638   \n",
       "\n",
       "              Cantabria - Andalucía - Estancia media  \\\n",
       "2006-Enero                                      2.24   \n",
       "2006-Febrero                                    1.99   \n",
       "\n",
       "              Cantabria - Asturias (Principado de) - Viajeros  \\\n",
       "2006-Enero                                               2872   \n",
       "2006-Febrero                                             3964   \n",
       "\n",
       "                                  ...                       \\\n",
       "2006-Enero                        ...                        \n",
       "2006-Febrero                      ...                        \n",
       "\n",
       "              Trasmiera - Resto Unión Europea - Estancia media  \\\n",
       "2006-Enero                                                 NaN   \n",
       "2006-Febrero                                               NaN   \n",
       "\n",
       "              Trasmiera - Resto Europa - Viajeros  \\\n",
       "2006-Enero                                   23.0   \n",
       "2006-Febrero                                  NaN   \n",
       "\n",
       "              Trasmiera - Resto Europa - Pernoctaciones  \\\n",
       "2006-Enero                                         32.0   \n",
       "2006-Febrero                                        NaN   \n",
       "\n",
       "              Trasmiera - Resto Europa - Estancia media  \\\n",
       "2006-Enero                                         1.41   \n",
       "2006-Febrero                                        NaN   \n",
       "\n",
       "              Trasmiera - América - Viajeros  \\\n",
       "2006-Enero                               9.0   \n",
       "2006-Febrero                            10.0   \n",
       "\n",
       "              Trasmiera - América - Pernoctaciones  \\\n",
       "2006-Enero                                    23.0   \n",
       "2006-Febrero                                  22.0   \n",
       "\n",
       "              Trasmiera - América - Estancia media  \\\n",
       "2006-Enero                                    2.65   \n",
       "2006-Febrero                                  2.09   \n",
       "\n",
       "              Trasmiera - Resto del mundo - Viajeros  \\\n",
       "2006-Enero                                      10.0   \n",
       "2006-Febrero                                     NaN   \n",
       "\n",
       "              Trasmiera - Resto del mundo - Pernoctaciones  \\\n",
       "2006-Enero                                            10.0   \n",
       "2006-Febrero                                           NaN   \n",
       "\n",
       "              Trasmiera - Resto del mundo - Estancia media  \n",
       "2006-Enero                                            1.02  \n",
       "2006-Febrero                                           NaN  \n",
       "\n",
       "[2 rows x 630 columns]"
      ]
     },
     "execution_count": 16,
     "metadata": {},
     "output_type": "execute_result"
    }
   ],
   "source": [
    "df1 = pd.read_csv('data_1.csv', index_col=0)\n",
    "df1.head(2)"
   ]
  },
  {
   "cell_type": "code",
   "execution_count": 20,
   "metadata": {},
   "outputs": [
    {
     "data": {
      "image/png": "[encoded data removed]",
      "text/plain": [
       "<Figure size 432x288 with 1 Axes>"
      ]
     },
     "metadata": {
      "needs_background": "light"
     },
     "output_type": "display_data"
    }
   ],
   "source": [
    "%run zequihg50-workflows-de6cfce/prueba.py"
   ]
  },
  {
   "cell_type": "markdown",
   "metadata": {},
   "source": [
    "# Publicación de los Datos\n",
    "\n",
    "Utilizando la API de Zenodo"
   ]
  },
  {
   "cell_type": "code",
   "execution_count": 29,
   "metadata": {},
   "outputs": [],
   "source": [
    "parametros = {'access_token': 'CO3sbx6ldTiBr0q1GIdUCt3cAReMzEjp0zToHpQsYlYW7MDC7ptTVDWunhJb'}"
   ]
  },
  {
   "cell_type": "markdown",
   "metadata": {},
   "source": [
    "#### Let’s try again (replace ACCESS_TOKEN with your newly created personal access token):"
   ]
  },
  {
   "cell_type": "code",
   "execution_count": 24,
   "metadata": {},
   "outputs": [
    {
     "data": {
      "text/plain": [
       "[{'conceptdoi': '10.5281/zenodo.2541974',\n",
       "  'conceptrecid': '2541974',\n",
       "  'created': '2019-01-16T17:14:59.644537',\n",
       "  'doi': '10.5281/zenodo.2541975',\n",
       "  'doi_url': 'https://doi.org/10.5281/zenodo.2541975',\n",
       "  'files': [{'checksum': 'd8fe046811f007becf7d6358433d81c6',\n",
       "    'filename': 'figura_1.png',\n",
       "    'filesize': 44952,\n",
       "    'id': 'bd59a4b7-7d39-4312-91b0-ffb6001d65e0',\n",
       "    'links': {'download': 'https://zenodo.org/api/files/11dccdd9-6627-4169-a090-3be05b4fd1a7/figura_1.png',\n",
       "     'self': 'https://zenodo.org/api/deposit/depositions/1435644/files/bd59a4b7-7d39-4312-91b0-ffb6001d65e0'}}],\n",
       "  'id': 2541975,\n",
       "  'links': {'badge': 'https://zenodo.org/badge/doi/10.5281/zenodo.2541975.svg',\n",
       "   'bucket': 'https://zenodo.org/api/files/0f2c8a67-aab1-4f63-ad64-7e38e8a022c8',\n",
       "   'conceptbadge': 'https://zenodo.org/badge/doi/10.5281/zenodo.2541974.svg',\n",
       "   'conceptdoi': 'https://doi.org/10.5281/zenodo.2541974',\n",
       "   'discard': 'https://zenodo.org/api/deposit/depositions/2541975/actions/discard',\n",
       "   'doi': 'https://doi.org/10.5281/zenodo.2541975',\n",
       "   'edit': 'https://zenodo.org/api/deposit/depositions/2541975/actions/edit',\n",
       "   'files': 'https://zenodo.org/api/deposit/depositions/2541975/files',\n",
       "   'html': 'https://zenodo.org/deposit/2541975',\n",
       "   'latest': 'https://zenodo.org/api/records/2541975',\n",
       "   'latest_html': 'https://zenodo.org/record/2541975',\n",
       "   'publish': 'https://zenodo.org/api/deposit/depositions/2541975/actions/publish',\n",
       "   'record': 'https://zenodo.org/api/records/2541975',\n",
       "   'record_html': 'https://zenodo.org/record/2541975',\n",
       "   'self': 'https://zenodo.org/api/deposit/depositions/2541975',\n",
       "   'thumb250': 'https://zenodo.org/api/iiif/v2/11dccdd9-6627-4169-a090-3be05b4fd1a7:e50a82f3-301f-4fe9-8a33-c6500edcdd41:figura_1.png/full/250,/0/default.png'},\n",
       "  'metadata': {'access_right': 'open',\n",
       "   'creators': [{'affiliation': 'datalyfe_test_16_01_2019_unican',\n",
       "     'name': 'Ezequiel, Jose Ney'}],\n",
       "   'description': 'This is my first upload',\n",
       "   'doi': '10.5281/zenodo.2541975',\n",
       "   'license': 'CC-BY-4.0',\n",
       "   'prereserve_doi': {'doi': '10.5281/zenodo.2541975', 'recid': 2541975},\n",
       "   'publication_date': '2019-01-16',\n",
       "   'title': 'My first upload',\n",
       "   'upload_type': 'poster'},\n",
       "  'modified': '2019-01-16T17:26:26.613554',\n",
       "  'owner': 58439,\n",
       "  'record_id': 2541975,\n",
       "  'state': 'done',\n",
       "  'submitted': True,\n",
       "  'title': 'My first upload'},\n",
       " {'conceptrecid': '2533255',\n",
       "  'created': '2019-01-07T16:06:08.642726',\n",
       "  'id': 2533256,\n",
       "  'links': {'discard': 'https://zenodo.org/api/deposit/depositions/2533256/actions/discard',\n",
       "   'edit': 'https://zenodo.org/api/deposit/depositions/2533256/actions/edit',\n",
       "   'files': 'https://zenodo.org/api/deposit/depositions/2533256/files',\n",
       "   'html': 'https://zenodo.org/deposit/2533256',\n",
       "   'publish': 'https://zenodo.org/api/deposit/depositions/2533256/actions/publish',\n",
       "   'self': 'https://zenodo.org/api/deposit/depositions/2533256'},\n",
       "  'metadata': {'prereserve_doi': {'doi': '10.5281/zenodo.2533256',\n",
       "    'recid': 2533256}},\n",
       "  'modified': '2019-01-07T16:06:08.642748',\n",
       "  'owner': 58439,\n",
       "  'record_id': 2533256,\n",
       "  'state': 'unsubmitted',\n",
       "  'submitted': False,\n",
       "  'title': ''}]"
      ]
     },
     "execution_count": 24,
     "metadata": {},
     "output_type": "execute_result"
    }
   ],
   "source": [
    "r = requests.get('https://zenodo.org/api/deposit/depositions',\n",
    "                 params= parametros)\n",
    "r.status_code\n",
    "r.json()"
   ]
  },
  {
   "cell_type": "markdown",
   "metadata": {},
   "source": [
    "#### Next, let’s create a new empty upload:"
   ]
  },
  {
   "cell_type": "code",
   "execution_count": 25,
   "metadata": {},
   "outputs": [
    {
     "data": {
      "text/plain": [
       "{'conceptrecid': '2542013',\n",
       " 'created': '2019-01-16T17:50:41.654375+00:00',\n",
       " 'files': [],\n",
       " 'id': 2542014,\n",
       " 'links': {'bucket': 'https://zenodo.org/api/files/4c1c3936-8ee8-4d47-b7e3-1e5c151cea73',\n",
       "  'discard': 'https://zenodo.org/api/deposit/depositions/2542014/actions/discard',\n",
       "  'edit': 'https://zenodo.org/api/deposit/depositions/2542014/actions/edit',\n",
       "  'files': 'https://zenodo.org/api/deposit/depositions/2542014/files',\n",
       "  'html': 'https://zenodo.org/deposit/2542014',\n",
       "  'latest_draft': 'https://zenodo.org/api/deposit/depositions/2542014',\n",
       "  'latest_draft_html': 'https://zenodo.org/deposit/depositions/2542014',\n",
       "  'publish': 'https://zenodo.org/api/deposit/depositions/2542014/actions/publish',\n",
       "  'self': 'https://zenodo.org/api/deposit/depositions/2542014'},\n",
       " 'metadata': {'prereserve_doi': {'doi': '10.5281/zenodo.2542014',\n",
       "   'recid': 2542014}},\n",
       " 'modified': '2019-01-16T17:50:41.654382+00:00',\n",
       " 'owner': 58439,\n",
       " 'record_id': 2542014,\n",
       " 'state': 'unsubmitted',\n",
       " 'submitted': False,\n",
       " 'title': ''}"
      ]
     },
     "execution_count": 25,
     "metadata": {},
     "output_type": "execute_result"
    }
   ],
   "source": [
    "headers = {\"Content-Type\": \"application/json\"}\n",
    "r = requests.post('https://zenodo.org/api/deposit/depositions',\n",
    "                   params=parametros, json={},\n",
    "                   headers=headers)\n",
    "r.status_code\n",
    "r.json()"
   ]
  },
  {
   "cell_type": "markdown",
   "metadata": {},
   "source": [
    "#### Now, let’s upload a new file:"
   ]
  },
  {
   "cell_type": "code",
   "execution_count": 26,
   "metadata": {},
   "outputs": [
    {
     "data": {
      "text/plain": [
       "{'checksum': 'd8fe046811f007becf7d6358433d81c6',\n",
       " 'filename': 'figura_1.png',\n",
       " 'filesize': 44952,\n",
       " 'id': '3143d54b-c034-43c9-8a4e-5305d1419747',\n",
       " 'links': {'download': 'https://zenodo.org/api/files/4c1c3936-8ee8-4d47-b7e3-1e5c151cea73/figura_1.png',\n",
       "  'self': 'https://zenodo.org/api/deposit/depositions/2542014/files/3143d54b-c034-43c9-8a4e-5305d1419747'}}"
      ]
     },
     "execution_count": 26,
     "metadata": {},
     "output_type": "execute_result"
    }
   ],
   "source": [
    "# Get the deposition id from the previous response\n",
    "deposition_id = r.json()['id']\n",
    "data = {'filename': 'figura_1.png'}\n",
    "files = {'file': open('figura_1.png', 'rb')}\n",
    "r = requests.post('https://zenodo.org/api/deposit/depositions/%s/files' % deposition_id,\n",
    "                   params=parametros, data=data,\n",
    "                   files=files)\n",
    "r.status_code\n",
    "r.json()"
   ]
  },
  {
   "cell_type": "markdown",
   "metadata": {},
   "source": [
    "#### Last thing missing, is just to add some metadata:"
   ]
  },
  {
   "cell_type": "code",
   "execution_count": 27,
   "metadata": {},
   "outputs": [
    {
     "data": {
      "text/plain": [
       "200"
      ]
     },
     "execution_count": 27,
     "metadata": {},
     "output_type": "execute_result"
    }
   ],
   "source": [
    "data = {\n",
    "     'metadata': {\n",
    "         'title': 'My first upload',\n",
    "         'upload_type': 'poster',\n",
    "         'description': 'This is my first upload',\n",
    "         'creators': [{'name': 'Ezequiel, Jose Ney',\n",
    "                       'affiliation': 'datalyfe_test_16_01_2019_unican'}]\n",
    "     }\n",
    "}\n",
    "r = requests.put('https://zenodo.org/api/deposit/depositions/%s' % deposition_id,\n",
    "                  params=parametros, data=json.dumps(data),\n",
    "                  headers=headers)\n",
    "r.status_code"
   ]
  },
  {
   "cell_type": "markdown",
   "metadata": {},
   "source": [
    "#### And we’re ready to publish:"
   ]
  },
  {
   "cell_type": "code",
   "execution_count": 28,
   "metadata": {},
   "outputs": [
    {
     "data": {
      "text/plain": [
       "202"
      ]
     },
     "execution_count": 28,
     "metadata": {},
     "output_type": "execute_result"
    }
   ],
   "source": [
    "r = requests.post('https://zenodo.org/api/deposit/depositions/%s/actions/publish' % deposition_id,\n",
    "                      params=parametros )\n",
    "r.status_code"
   ]
  },
  {
   "cell_type": "markdown",
   "metadata": {},
   "source": [
    "¿Puedes replicar ese workflow en un sólo bloque con otros datos?"
   ]
  },
  {
   "cell_type": "code",
   "execution_count": null,
   "metadata": {},
   "outputs": [],
   "source": []
  },
  {
   "cell_type": "code",
   "execution_count": null,
   "metadata": {},
   "outputs": [],
   "source": []
  },
  {
   "cell_type": "code",
   "execution_count": null,
   "metadata": {},
   "outputs": [],
   "source": []
  }
 ],
 "metadata": {
  "kernelspec": {
   "display_name": "Python 3",
   "language": "python",
   "name": "python3"
  },
  "language_info": {
   "codemirror_mode": {
    "name": "ipython",
    "version": 3
   },
   "file_extension": ".py",
   "mimetype": "text/x-python",
   "name": "python",
   "nbconvert_exporter": "python",
   "pygments_lexer": "ipython3",
   "version": "3.7.0"
  }
 },
 "nbformat": 4,
 "nbformat_minor": 2
}
